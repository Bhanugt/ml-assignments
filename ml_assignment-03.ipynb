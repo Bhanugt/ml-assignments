{
 "cells": [
  {
   "cell_type": "code",
   "execution_count": 1,
   "id": "51bb2b3a-d55f-475c-ae34-b68faf5ffa5e",
   "metadata": {},
   "outputs": [
    {
     "name": "stdin",
     "output_type": "stream",
     "text": [
      "Enter the marks of subject1:  99\n",
      "Enter the marks of subject2:  95\n",
      "Enter the marks of subject3:  97\n"
     ]
    },
    {
     "name": "stdout",
     "output_type": "stream",
     "text": [
      "GradeA\n"
     ]
    }
   ],
   "source": [
    "#python program that takes a students marks in three subjects as input\n",
    "subject1 = int(input(\"Enter the marks of subject1: \"))\n",
    "subject2 = int(input(\"Enter the marks of subject2: \"))\n",
    "subject3 = int(input(\"Enter the marks of subject3: \"))\n",
    "Average = subject1 + subject2 + subject3 / 3\n",
    "if Average >= 90:\n",
    "    print(\"GradeA\")\n",
    "elif Average > 80:\n",
    "    print(\"GradeB\")\n",
    "elif Average > 70:\n",
    "    print(\"GradeC\")\n",
    "else:\n",
    "    print(\"Fail\")\n",
    "    "
   ]
  },
  {
   "cell_type": "code",
   "execution_count": null,
   "id": "50aad61d-998b-41d3-9bc3-4900bc1bee3f",
   "metadata": {},
   "outputs": [],
   "source": []
  }
 ],
 "metadata": {
  "kernelspec": {
   "display_name": "Python 3 (ipykernel)",
   "language": "python",
   "name": "python3"
  },
  "language_info": {
   "codemirror_mode": {
    "name": "ipython",
    "version": 3
   },
   "file_extension": ".py",
   "mimetype": "text/x-python",
   "name": "python",
   "nbconvert_exporter": "python",
   "pygments_lexer": "ipython3",
   "version": "3.13.0"
  },
  "widgets": {
   "application/vnd.jupyter.widget-state+json": {
    "state": {},
    "version_major": 2,
    "version_minor": 0
   }
  }
 },
 "nbformat": 4,
 "nbformat_minor": 5
}
