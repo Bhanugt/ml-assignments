{
 "cells": [
  {
   "cell_type": "code",
   "execution_count": null,
   "id": "0d313aef-96e9-4b6d-961c-53a4758cead7",
   "metadata": {},
   "outputs": [
    {
     "name": "stdin",
     "output_type": "stream",
     "text": [
      "Enter marks for subject1:  56\n",
      "Enter marks for subject2:  98\n"
     ]
    }
   ],
   "source": [
    "#python program that takes a students marks in three subjects as input\n",
    "subject1 = int(input(\"Enter marks for subject1: \"))\n",
    "subject2 = int(input(\"Enter marks for subject2: \"))\n",
    "subject3 = int(input(\"Enter marks for subject3: \"))\n",
    "average = subject1 + subject2 + subject3 / 3\n",
    "if(average >= 90):\n",
    "    print(\"Grade A\")\n",
    "\n",
    "elif(average > 80):\n",
    "     print(\"Grade B\")\n",
    "\n",
    "elif(average > 70):\n",
    "    print(\"Grade C\")\n",
    "else:\n",
    "    print(\"Fail\")\n"
   ]
  },
  {
   "cell_type": "code",
   "execution_count": null,
   "id": "611b8d20-0583-4b4a-bc80-0889a56c419e",
   "metadata": {},
   "outputs": [],
   "source": []
  },
  {
   "cell_type": "code",
   "execution_count": null,
   "id": "b6b266e7-9192-40b4-99fb-c70fcd42442f",
   "metadata": {},
   "outputs": [],
   "source": []
  }
 ],
 "metadata": {
  "kernelspec": {
   "display_name": "Python 3 (ipykernel)",
   "language": "python",
   "name": "python3"
  },
  "language_info": {
   "codemirror_mode": {
    "name": "ipython",
    "version": 3
   },
   "file_extension": ".py",
   "mimetype": "text/x-python",
   "name": "python",
   "nbconvert_exporter": "python",
   "pygments_lexer": "ipython3",
   "version": "3.13.0"
  }
 },
 "nbformat": 4,
 "nbformat_minor": 5
}
