{
 "cells": [
  {
   "cell_type": "code",
   "execution_count": 24,
   "id": "95c1ee38-7e25-440e-b6b5-5b4edf8351e7",
   "metadata": {},
   "outputs": [
    {
     "data": {
      "text/plain": [
       "[93, 5.5, 'Python', 'True', '63']"
      ]
     },
     "execution_count": 24,
     "metadata": {},
     "output_type": "execute_result"
    }
   ],
   "source": [
    "#list operations\n",
    "a = [93, 5.5, 'Python', 'True','63']\n",
    "a"
   ]
  },
  {
   "cell_type": "code",
   "execution_count": 2,
   "id": "824fe52f-7672-43d7-b4e1-a2e0aa921148",
   "metadata": {},
   "outputs": [
    {
     "ename": "NameError",
     "evalue": "name 'insert' is not defined",
     "output_type": "error",
     "traceback": [
      "\u001b[1;31m---------------------------------------------------------------------------\u001b[0m",
      "\u001b[1;31mNameError\u001b[0m                                 Traceback (most recent call last)",
      "Cell \u001b[1;32mIn[2], line 1\u001b[0m\n\u001b[1;32m----> 1\u001b[0m \u001b[43minsert\u001b[49m\n\u001b[0;32m      2\u001b[0m pop\n\u001b[0;32m      3\u001b[0m clear\n",
      "\u001b[1;31mNameError\u001b[0m: name 'insert' is not defined"
     ]
    }
   ],
   "source": [
    "insert\n",
    "pop\n",
    "clear\n",
    "append\n",
    "extend\n",
    "reverse\n"
   ]
  },
  {
   "cell_type": "code",
   "execution_count": 3,
   "id": "3787739c-5c6d-4f2b-963d-a382b8a1033e",
   "metadata": {},
   "outputs": [
    {
     "data": {
      "text/plain": [
       "[93, 5.5]"
      ]
     },
     "execution_count": 3,
     "metadata": {},
     "output_type": "execute_result"
    }
   ],
   "source": [
    "a[0:2]"
   ]
  },
  {
   "cell_type": "code",
   "execution_count": 4,
   "id": "561edbeb-ee37-4574-ad69-27d199fe4ced",
   "metadata": {},
   "outputs": [
    {
     "data": {
      "text/plain": [
       "[93, 5.5, 'Python', 'True']"
      ]
     },
     "execution_count": 4,
     "metadata": {},
     "output_type": "execute_result"
    }
   ],
   "source": [
    "a[0:4]"
   ]
  },
  {
   "cell_type": "code",
   "execution_count": 5,
   "id": "b6617b39-fb67-4849-a2e2-9901ad1281d3",
   "metadata": {},
   "outputs": [
    {
     "data": {
      "text/plain": [
       "[5.5, 'Python', 'True', '63']"
      ]
     },
     "execution_count": 5,
     "metadata": {},
     "output_type": "execute_result"
    }
   ],
   "source": [
    "a[1:5]"
   ]
  },
  {
   "cell_type": "code",
   "execution_count": 18,
   "id": "e80124fe-7b50-4db1-a793-6378478eb551",
   "metadata": {},
   "outputs": [
    {
     "data": {
      "text/plain": [
       "'63'"
      ]
     },
     "execution_count": 18,
     "metadata": {},
     "output_type": "execute_result"
    }
   ],
   "source": [
    "a[-1]\n"
   ]
  },
  {
   "cell_type": "code",
   "execution_count": 19,
   "id": "b8c2fc97-7704-4cef-a62b-f968c338bd29",
   "metadata": {},
   "outputs": [
    {
     "data": {
      "text/plain": [
       "['63']"
      ]
     },
     "execution_count": 19,
     "metadata": {},
     "output_type": "execute_result"
    }
   ],
   "source": [
    "a[-1:5]"
   ]
  },
  {
   "cell_type": "code",
   "execution_count": 25,
   "id": "ca8b73e5-b22c-4e4d-9a72-81b8ad606c5a",
   "metadata": {},
   "outputs": [
    {
     "data": {
      "text/plain": [
       "[93]"
      ]
     },
     "execution_count": 25,
     "metadata": {},
     "output_type": "execute_result"
    }
   ],
   "source": [
    "a[0:-4]"
   ]
  },
  {
   "cell_type": "code",
   "execution_count": 34,
   "id": "80cd90df-dcc9-4660-91a6-75bca0a0a09b",
   "metadata": {},
   "outputs": [
    {
     "data": {
      "text/plain": [
       "[93]"
      ]
     },
     "execution_count": 34,
     "metadata": {},
     "output_type": "execute_result"
    }
   ],
   "source": [
    "a[0:-4:1]"
   ]
  },
  {
   "cell_type": "code",
   "execution_count": 39,
   "id": "0df2756f-98a6-4199-a385-edff9405fbb7",
   "metadata": {},
   "outputs": [
    {
     "data": {
      "text/plain": [
       "['63', 'True', 'Python']"
      ]
     },
     "execution_count": 39,
     "metadata": {},
     "output_type": "execute_result"
    }
   ],
   "source": [
    "a[-1:-4:-1]"
   ]
  },
  {
   "cell_type": "code",
   "execution_count": 40,
   "id": "28938a28-4848-4531-a7b6-1a59afe38ff6",
   "metadata": {},
   "outputs": [
    {
     "data": {
      "text/plain": [
       "[5.5, 'Python', 'True']"
      ]
     },
     "execution_count": 40,
     "metadata": {},
     "output_type": "execute_result"
    }
   ],
   "source": [
    "a[1:4:1]"
   ]
  },
  {
   "cell_type": "code",
   "execution_count": 41,
   "id": "bcfc1904-e21a-4f54-8e69-bb76a0ffad15",
   "metadata": {},
   "outputs": [
    {
     "data": {
      "text/plain": [
       "['Python', 'True']"
      ]
     },
     "execution_count": 41,
     "metadata": {},
     "output_type": "execute_result"
    }
   ],
   "source": [
    "a[2:4:1]"
   ]
  },
  {
   "cell_type": "code",
   "execution_count": 43,
   "id": "1f1c1830-7cdf-403d-b99a-3c00a8ed9f06",
   "metadata": {},
   "outputs": [
    {
     "data": {
      "text/plain": [
       "['True', 'Python']"
      ]
     },
     "execution_count": 43,
     "metadata": {},
     "output_type": "execute_result"
    }
   ],
   "source": [
    "a[-2:-4:-1]"
   ]
  },
  {
   "cell_type": "code",
   "execution_count": 3,
   "id": "fa0deb05-b05b-4792-9921-37a9c31228d0",
   "metadata": {},
   "outputs": [
    {
     "data": {
      "text/plain": [
       "[93, 'True', 'Ayushi', 8.9, 'Hyderabad']"
      ]
     },
     "execution_count": 3,
     "metadata": {},
     "output_type": "execute_result"
    }
   ],
   "source": [
    "#insert\n",
    "a = [93, 'True', 'Ayushi', 8.9, 'Hyderabad']\n",
    "a\n"
   ]
  },
  {
   "cell_type": "code",
   "execution_count": 9,
   "id": "03e7903e-4e8f-4789-bbe9-f7255ee5108e",
   "metadata": {},
   "outputs": [
    {
     "data": {
      "text/plain": [
       "[93, 'True', 'Ayushi', 8.9, 'Hyderabad', 63, 63, 53, 53]"
      ]
     },
     "execution_count": 9,
     "metadata": {},
     "output_type": "execute_result"
    }
   ],
   "source": [
    "#insert\n",
    "a.insert(93, 53)\n",
    "a"
   ]
  },
  {
   "cell_type": "code",
   "execution_count": null,
   "id": "0b3e3e29-c3e9-410f-b660-c001eac2800e",
   "metadata": {},
   "outputs": [],
   "source": [
    "a"
   ]
  },
  {
   "cell_type": "code",
   "execution_count": 11,
   "id": "7498feef-1638-42db-9e6b-94bb5dbd35ed",
   "metadata": {},
   "outputs": [
    {
     "data": {
      "text/plain": [
       "[93, 'True', 'Ayushi', 8.9, 'Hyderabad', 63, 63, 53, 53, 63, 63]"
      ]
     },
     "execution_count": 11,
     "metadata": {},
     "output_type": "execute_result"
    }
   ],
   "source": [
    "a.append(63)\n",
    "a"
   ]
  },
  {
   "cell_type": "code",
   "execution_count": 13,
   "id": "d4c248b3-96b7-4daf-9565-b78744c329a2",
   "metadata": {},
   "outputs": [
    {
     "data": {
      "text/plain": [
       "[93, 'True', 'Ayushi', 8.9, 'Hyderabad', 63, 53, 53, 63, 63]"
      ]
     },
     "execution_count": 13,
     "metadata": {},
     "output_type": "execute_result"
    }
   ],
   "source": [
    "a.pop(6)\n",
    "a"
   ]
  },
  {
   "cell_type": "code",
   "execution_count": 19,
   "id": "e16b6c50-cbc2-48ee-92b5-bba0e0f91e6d",
   "metadata": {},
   "outputs": [
    {
     "name": "stdout",
     "output_type": "stream",
     "text": [
      "[93, 'True', 'Ayushi', 8.9, 'Hyderabad', 63, 53, 53, 63, 63, 'G', 'a', 'u', 't', 'h', 'a', 'm', 'G', 'a', 'u', 't', 'h', 'a', 'm', 'G', 'a', 'u', 't', 'h', 'a', 'm', 'G', 'a', 'u', 't', 'h', 'a', 'm']\n"
     ]
    }
   ],
   "source": [
    "a.extend('Gautham')\n",
    "a\n",
    "print(a)"
   ]
  },
  {
   "cell_type": "code",
   "execution_count": 29,
   "id": "5e23a6ad-fcd1-419e-88b3-6caad4ad0442",
   "metadata": {},
   "outputs": [
    {
     "data": {
      "text/plain": [
       "(45, 5.5, 89, 67, 98)"
      ]
     },
     "execution_count": 29,
     "metadata": {},
     "output_type": "execute_result"
    }
   ],
   "source": [
    "#tuple\n",
    "x = (45, 5.5, 89, 67, 98,45, 89, 63)\n",
    "x"
   ]
  },
  {
   "cell_type": "code",
   "execution_count": 55,
   "id": "41e8a42f-17a1-4441-9f7b-7526d4da355c",
   "metadata": {},
   "outputs": [
    {
     "data": {
      "text/plain": [
       "(67, 89, 5.5)"
      ]
     },
     "execution_count": 55,
     "metadata": {},
     "output_type": "execute_result"
    }
   ],
   "source": [
    "x[-2:-5:-1]"
   ]
  },
  {
   "cell_type": "code",
   "execution_count": 32,
   "id": "994ad434-e875-4cba-91ab-582d19dc13e4",
   "metadata": {},
   "outputs": [
    {
     "data": {
      "text/plain": [
       "1"
      ]
     },
     "execution_count": 32,
     "metadata": {},
     "output_type": "execute_result"
    }
   ],
   "source": [
    "x.count(89)"
   ]
  },
  {
   "cell_type": "code",
   "execution_count": 33,
   "id": "8bf457d4-256b-440a-9c70-dac39fd2128e",
   "metadata": {},
   "outputs": [
    {
     "data": {
      "text/plain": [
       "4"
      ]
     },
     "execution_count": 33,
     "metadata": {},
     "output_type": "execute_result"
    }
   ],
   "source": [
    "x.index(98)"
   ]
  },
  {
   "cell_type": "code",
   "execution_count": 34,
   "id": "abe51195-64e1-4e4d-b2d1-e7e968f862ec",
   "metadata": {},
   "outputs": [
    {
     "data": {
      "text/plain": [
       "45"
      ]
     },
     "execution_count": 34,
     "metadata": {},
     "output_type": "execute_result"
    }
   ],
   "source": [
    "x[0]"
   ]
  },
  {
   "cell_type": "code",
   "execution_count": 35,
   "id": "2a747664-183a-4dcc-8d25-b6571ca26ece",
   "metadata": {},
   "outputs": [
    {
     "data": {
      "text/plain": [
       "(5.5, 89, 67, 98)"
      ]
     },
     "execution_count": 35,
     "metadata": {},
     "output_type": "execute_result"
    }
   ],
   "source": [
    "x[1:7]"
   ]
  },
  {
   "cell_type": "code",
   "execution_count": 36,
   "id": "68aea227-9b62-41f9-9134-3b90b7d5a3d3",
   "metadata": {},
   "outputs": [
    {
     "data": {
      "text/plain": [
       "(5.5, 89, 67, 98)"
      ]
     },
     "execution_count": 36,
     "metadata": {},
     "output_type": "execute_result"
    }
   ],
   "source": [
    "x[1:8]"
   ]
  },
  {
   "cell_type": "code",
   "execution_count": 37,
   "id": "bb282183-dec4-4bfb-8a82-85a21a6e9f10",
   "metadata": {},
   "outputs": [
    {
     "data": {
      "text/plain": [
       "89"
      ]
     },
     "execution_count": 37,
     "metadata": {},
     "output_type": "execute_result"
    }
   ],
   "source": [
    "x[2]"
   ]
  },
  {
   "cell_type": "code",
   "execution_count": 39,
   "id": "87fdf33c-138f-4d38-8d45-2bd4db33e6f0",
   "metadata": {},
   "outputs": [
    {
     "data": {
      "text/plain": [
       "45"
      ]
     },
     "execution_count": 39,
     "metadata": {},
     "output_type": "execute_result"
    }
   ],
   "source": [
    "x[-5]"
   ]
  },
  {
   "cell_type": "code",
   "execution_count": 43,
   "id": "9db6bf34-25c9-45bf-8db9-63c6ebfffaa5",
   "metadata": {},
   "outputs": [
    {
     "data": {
      "text/plain": [
       "(5.5, 89, 67)"
      ]
     },
     "execution_count": 43,
     "metadata": {},
     "output_type": "execute_result"
    }
   ],
   "source": [
    "x[1:4:1]"
   ]
  },
  {
   "cell_type": "code",
   "execution_count": 44,
   "id": "2fe8d4ec-2f4f-499f-9058-704cd27c118b",
   "metadata": {},
   "outputs": [
    {
     "data": {
      "text/plain": [
       "45"
      ]
     },
     "execution_count": 44,
     "metadata": {},
     "output_type": "execute_result"
    }
   ],
   "source": [
    "x[-5]"
   ]
  },
  {
   "cell_type": "code",
   "execution_count": 48,
   "id": "336a5eda-9fe0-44d3-b751-6a408055cda1",
   "metadata": {},
   "outputs": [
    {
     "data": {
      "text/plain": [
       "(98, 67, 89)"
      ]
     },
     "execution_count": 48,
     "metadata": {},
     "output_type": "execute_result"
    }
   ],
   "source": [
    "x[-1:-4:-1]"
   ]
  },
  {
   "cell_type": "code",
   "execution_count": 50,
   "id": "5376e58a-49eb-44d2-8c88-794e966f35ea",
   "metadata": {},
   "outputs": [
    {
     "data": {
      "text/plain": [
       "(67, 89, 5.5)"
      ]
     },
     "execution_count": 50,
     "metadata": {},
     "output_type": "execute_result"
    }
   ],
   "source": [
    "x[-2:-5:-1]"
   ]
  },
  {
   "cell_type": "code",
   "execution_count": 93,
   "id": "cfaf6eb9-4f27-4b66-addb-aa0adaba4089",
   "metadata": {},
   "outputs": [
    {
     "data": {
      "text/plain": [
       "{'name': 'Ayushi', 'age': 14, 'id': 45}"
      ]
     },
     "execution_count": 93,
     "metadata": {},
     "output_type": "execute_result"
    }
   ],
   "source": [
    "#dictionary\n",
    "z = {\"name\" : \"Ayushi\", \"age\" : 14, \"id\" : 45}\n",
    "z"
   ]
  },
  {
   "cell_type": "code",
   "execution_count": 94,
   "id": "45bc2896-46de-4147-82f5-1ca9c21c7b04",
   "metadata": {},
   "outputs": [
    {
     "data": {
      "text/plain": [
       "'Ayushi'"
      ]
     },
     "execution_count": 94,
     "metadata": {},
     "output_type": "execute_result"
    }
   ],
   "source": [
    "z.pop(\"name\")"
   ]
  },
  {
   "cell_type": "code",
   "execution_count": 85,
   "id": "67455865-6753-4579-b15c-13ae842e4c85",
   "metadata": {},
   "outputs": [
    {
     "data": {
      "text/plain": [
       "14"
      ]
     },
     "execution_count": 85,
     "metadata": {},
     "output_type": "execute_result"
    }
   ],
   "source": [
    "z[\"age\"]"
   ]
  },
  {
   "cell_type": "code",
   "execution_count": 89,
   "id": "0ccae431-c101-42bb-a515-1b7a48424d7a",
   "metadata": {},
   "outputs": [
    {
     "data": {
      "text/plain": [
       "45"
      ]
     },
     "execution_count": 89,
     "metadata": {},
     "output_type": "execute_result"
    }
   ],
   "source": [
    "z[\"id\"]"
   ]
  },
  {
   "cell_type": "code",
   "execution_count": 99,
   "id": "95542f76-f425-490b-a740-3ba20e275a3d",
   "metadata": {},
   "outputs": [
    {
     "data": {
      "text/plain": [
       "{'age': 14, 'id': 45, 'marks': 98}"
      ]
     },
     "execution_count": 99,
     "metadata": {},
     "output_type": "execute_result"
    }
   ],
   "source": [
    "z[\"marks\"] = 98\n",
    "z\n"
   ]
  },
  {
   "cell_type": "code",
   "execution_count": 112,
   "id": "9bad619b-223e-4a80-874d-9afd8d70bda8",
   "metadata": {},
   "outputs": [],
   "source": []
  },
  {
   "cell_type": "code",
   "execution_count": null,
   "id": "42d6401b-260f-4f19-b587-40d1b04dfa53",
   "metadata": {},
   "outputs": [],
   "source": []
  },
  {
   "cell_type": "code",
   "execution_count": null,
   "id": "1008ae39-abcc-4002-bf0a-3c7a1cfd84d6",
   "metadata": {},
   "outputs": [],
   "source": []
  }
 ],
 "metadata": {
  "kernelspec": {
   "display_name": "Python 3 (ipykernel)",
   "language": "python",
   "name": "python3"
  },
  "language_info": {
   "codemirror_mode": {
    "name": "ipython",
    "version": 3
   },
   "file_extension": ".py",
   "mimetype": "text/x-python",
   "name": "python",
   "nbconvert_exporter": "python",
   "pygments_lexer": "ipython3",
   "version": "3.13.0"
  }
 },
 "nbformat": 4,
 "nbformat_minor": 5
}
